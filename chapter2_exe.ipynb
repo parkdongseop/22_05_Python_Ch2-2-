{
  "nbformat": 4,
  "nbformat_minor": 0,
  "metadata": {
    "colab": {
      "provenance": [],
      "authorship_tag": "ABX9TyPiAbygL24OCZVXK+nAdCQD",
      "include_colab_link": true
    },
    "kernelspec": {
      "name": "python3",
      "display_name": "Python 3"
    },
    "language_info": {
      "name": "python"
    }
  },
  "cells": [
    {
      "cell_type": "markdown",
      "metadata": {
        "id": "view-in-github",
        "colab_type": "text"
      },
      "source": [
        "<a href=\"https://colab.research.google.com/github/parkdongseop/22_05_Python_Ch2-2-/blob/main/chapter2_exe.ipynb\" target=\"_parent\"><img src=\"https://colab.research.google.com/assets/colab-badge.svg\" alt=\"Open In Colab\"/></a>"
      ]
    },
    {
      "cell_type": "markdown",
      "source": [
        "사용자에게 이름과 나이를 입력하게 한다. 사용자가 100살이 되는 연도를 화면에 출력하는 프로그램을 작성하라"
      ],
      "metadata": {
        "id": "IXiAyoe7QXAi"
      }
    },
    {
      "cell_type": "code",
      "execution_count": 4,
      "metadata": {
        "colab": {
          "base_uri": "https://localhost:8080/"
        },
        "id": "kOqeDD7HQA0A",
        "outputId": "eb8f280c-237c-4ee9-8797-8f12d5018504"
      },
      "outputs": [
        {
          "output_type": "stream",
          "name": "stdout",
          "text": [
            "이름을 입력하시오. : 유상민\n",
            "나이를 입력하시오.: 54\n",
            "유상민씨는2068년에 100살입니다.\n"
          ]
        }
      ],
      "source": [
        "name = input(\"이름을 입력하시오. : \") # 변수 name에 input함수를 사용하여 사용자에게 이름을 입력받음.\n",
        "age = int(input(\"나이를 입력하시오.: \")) # 변수 age에 int(정수형선언)함수로 사용자에게 나이를 입력받음.\n",
        "year = 2022 - age + 100 # 변수 year에 현재 연도 - 변수(age) + 100\n",
        "print(name + \"씨는\" + str(year) + \"년에 100살입니다.\")"
      ]
    },
    {
      "cell_type": "code",
      "source": [
        "n1 = int(input(\"첫번째 값을 입력하시오. :\"))\n",
        "n2 = int(input(\"두번째 값을 입력하시오. :\"))\n",
        "n3 = int(input(\"세번째 값을 입력하시오. :\"))\n",
        "aver = (n1 +n2+ n3) / 3 #변수 aver에 n1,n2,n3를(로 묶어야 한다.) 더하고 3으로 나눈다.\n",
        "sum = n1 + n2 + n3\n",
        "print(n1, n2, n3, \"의 합은\", str(sum)+ \"이고\", \"의 평균은\" \"입니다.\")"
      ],
      "metadata": {
        "id": "-ElJHuQXTSIJ"
      },
      "execution_count": null,
      "outputs": []
    },
    {
      "cell_type": "markdown",
      "source": [
        "(3)사용자로부터 반지름을 입력받아서 면적을 구하시오."
      ],
      "metadata": {
        "id": "qPpBXTNnV6Vn"
      }
    },
    {
      "cell_type": "code",
      "source": [
        "radius = int(input(\"반지름을 입력하시오.\"))\n",
        "area = 3.141592 * radius * radius\n",
        "print(\"반지름이\",radius,\"인 원의 넓이는 =\", area, \"입니다.\")"
      ],
      "metadata": {
        "colab": {
          "base_uri": "https://localhost:8080/"
        },
        "id": "3zVSDbNRVs-7",
        "outputId": "0e228739-6aed-4459-ab38-915380acb223"
      },
      "execution_count": 11,
      "outputs": [
        {
          "output_type": "stream",
          "name": "stdout",
          "text": [
            "반지름을 입력하시오.10\n",
            "반지름이 10 인 원의 넓이는 = 314.1592 입니다.\n"
          ]
        }
      ]
    }
  ]
}